{
 "cells": [
  {
   "cell_type": "markdown",
   "id": "e90f4703-63a8-400f-89ff-e112a70623e2",
   "metadata": {},
   "source": [
    " # build data"
   ]
  },
  {
   "cell_type": "code",
   "execution_count": 42,
   "id": "aec39d7a-23b8-473f-a1bb-0ac8da7f63e6",
   "metadata": {
    "tags": []
   },
   "outputs": [],
   "source": [
    "def generate_word_frequency(file_path, word_len: int = 5, limit: int = 1000):\n",
    "    #Build data( words with frequency )\n",
    "    words= []\n",
    "    with open(file_path) as f:\n",
    "        for line in f:\n",
    "            word, frequency = line.split(', ')\n",
    "            frequency = int(frequency)\n",
    "            words.append((word, frequency))\n",
    "\n",
    "    #Filter and Sort Data        \n",
    "    words = list(filter(lambda w_fre: len(w_fre[0]) == word_len, words))\n",
    "    words = sorted(words, key= lambda w_fre: w_fre[1], reverse=True)\n",
    "\n",
    "    #Limit Data\n",
    "    words = words[:limit]\n",
    "\n",
    "    #Drop Frequency Data\n",
    "    words = [w_fre[0] for w_fre in words]\n",
    "    \n",
    "    return words"
   ]
  },
  {
   "cell_type": "code",
   "execution_count": 43,
   "id": "9d070a1f-e489-4820-873d-0e2bfc48f7b9",
   "metadata": {},
   "outputs": [],
   "source": [
    "file_path = './data/words_frequency.txt'"
   ]
  },
  {
   "cell_type": "code",
   "execution_count": 80,
   "id": "a366aab8-4b04-410d-aeba-c7aeb2ad6d57",
   "metadata": {},
   "outputs": [],
   "source": [
    "file_path = './data/words_frequency.txt'\n",
    "word_len = 5\n",
    "limit = 100"
   ]
  },
  {
   "cell_type": "code",
   "execution_count": 81,
   "id": "6c60d5a6-ae09-4d30-bd71-42ec2ce78718",
   "metadata": {},
   "outputs": [
    {
     "data": {
      "text/plain": [
       "['about',\n",
       " 'other',\n",
       " 'which',\n",
       " 'their',\n",
       " 'there',\n",
       " 'first',\n",
       " 'would',\n",
       " 'these',\n",
       " 'click',\n",
       " 'price',\n",
       " 'state',\n",
       " 'email',\n",
       " 'world',\n",
       " 'music',\n",
       " 'after',\n",
       " 'video',\n",
       " 'where',\n",
       " 'books',\n",
       " 'links',\n",
       " 'years',\n",
       " 'order',\n",
       " 'items',\n",
       " 'group',\n",
       " 'under',\n",
       " 'games',\n",
       " 'could',\n",
       " 'great',\n",
       " 'hotel',\n",
       " 'store',\n",
       " 'terms',\n",
       " 'right',\n",
       " 'local',\n",
       " 'those',\n",
       " 'using',\n",
       " 'phone',\n",
       " 'forum',\n",
       " 'based',\n",
       " 'black',\n",
       " 'check',\n",
       " 'index',\n",
       " 'being',\n",
       " 'women',\n",
       " 'today',\n",
       " 'south',\n",
       " 'pages',\n",
       " 'found',\n",
       " 'house',\n",
       " 'photo',\n",
       " 'power',\n",
       " 'while',\n",
       " 'three',\n",
       " 'total',\n",
       " 'place',\n",
       " 'think',\n",
       " 'north',\n",
       " 'posts',\n",
       " 'media',\n",
       " 'water',\n",
       " 'since',\n",
       " 'guide',\n",
       " 'board',\n",
       " 'white',\n",
       " 'small',\n",
       " 'times',\n",
       " 'sites',\n",
       " 'level',\n",
       " 'hours',\n",
       " 'image',\n",
       " 'title',\n",
       " 'shall',\n",
       " 'class',\n",
       " 'still',\n",
       " 'money',\n",
       " 'every',\n",
       " 'visit',\n",
       " 'tools',\n",
       " 'reply',\n",
       " 'value',\n",
       " 'press',\n",
       " 'learn',\n",
       " 'print',\n",
       " 'stock',\n",
       " 'point',\n",
       " 'sales',\n",
       " 'large',\n",
       " 'table',\n",
       " 'start',\n",
       " 'model',\n",
       " 'human',\n",
       " 'movie',\n",
       " 'march',\n",
       " 'yahoo',\n",
       " 'going',\n",
       " 'study',\n",
       " 'staff',\n",
       " 'again',\n",
       " 'april',\n",
       " 'never',\n",
       " 'users',\n",
       " 'topic']"
      ]
     },
     "execution_count": 81,
     "metadata": {},
     "output_type": "execute_result"
    }
   ],
   "source": [
    "words = generate_word_frequency(file_path, word_len, limit)"
   ]
  },
  {
   "cell_type": "code",
   "execution_count": null,
   "id": "2979d3fd-1f7d-40cb-b558-a1d0f1684860",
   "metadata": {},
   "outputs": [],
   "source": []
  },
  {
   "cell_type": "code",
   "execution_count": null,
   "id": "a40fea7f-d0d3-4c78-941f-ca2299e41591",
   "metadata": {},
   "outputs": [],
   "source": [
    "from termcolor import colored"
   ]
  },
  {
   "cell_type": "code",
   "execution_count": 74,
   "id": "18a96038-0abd-420b-bb5c-5679fff6ceb6",
   "metadata": {},
   "outputs": [],
   "source": [
    " \n",
    "game_word = random.choice(words)\n",
    "game_word = game_word.upper()"
   ]
  },
  {
   "cell_type": "code",
   "execution_count": null,
   "id": "21ebf177-d291-484e-b893-048e9b7454d9",
   "metadata": {},
   "outputs": [],
   "source": [
    "def print_success(text, end='\\n'):\n",
    "    print(colored(text, \"green\", attrs=[\"reverse\"], end=end))\n",
    "    \n",
    "def print_warning(text end='\\n'):\n",
    "    print(colored(text, \"yellow\", attrs=[\"reverse\"], end=end))\n",
    "    \n",
    "def print_error(text end='\\n'):\n",
    "    print(colored(text, \"red\", attrs=[\"reverse\"], end=end))\n",
    "    \n",
    "def print_grey(text end='\\n'):\n",
    "    print(colored(text, \"grey\", attrs=[\"reverse\"], end=end))"
   ]
  },
  {
   "cell_type": "code",
   "execution_count": 77,
   "id": "38fddef0-e084-49fa-84c1-c55e576b7009",
   "metadata": {},
   "outputs": [
    {
     "data": {
      "text/plain": [
       "'roles'"
      ]
     },
     "execution_count": 77,
     "metadata": {},
     "output_type": "execute_result"
    }
   ],
   "source": [
    "game_word"
   ]
  },
  {
   "cell_type": "code",
   "execution_count": null,
   "id": "b61949dc-3624-4824-886e-e98d4d9b9156",
   "metadata": {},
   "outputs": [],
   "source": [
    "num_try = 6\n",
    "success = False\n",
    "while True:\n",
    "    guess_word = input(f'Enter a {word_len} letter word (or q to exit): ')\n",
    "    guess_word = guess_word.upper()\n",
    "    if guess_word == 'q':\n",
    "        break\n",
    "    #Word Length\n",
    "    if len (guess_word) != 5:\n",
    "        print(f'word must have {word_len} letters.you enterd {len(guess_word)} ! :)')\n",
    "        continue\n",
    "    #check valid word\n",
    "    if guess_word not in words:\n",
    "        print_warning('Your word is Not valid')\n",
    "        continue\n",
    "    #check valid positions \n",
    "    for game_letter, user_letter in zip(game_word, guess_word):\n",
    "        if game_letter == user_letter:\n",
    "            print_success(user_letter, end='')\n",
    "        elif user_letter in game_word:\n",
    "            print_warning(user_letter, end='')\n",
    "        else:\n",
    "            print_grey(user_letter, end='')\n",
    "            \n",
    "    print()\n",
    "    #check success\n",
    "    if game_word == guess_word:\n",
    "        print_success('Congratulations!')\n",
    "        success = True\n",
    "        break\n",
    "\n",
    "    num_try -=1\n",
    "if not success:\n",
    "    print_warning(f'The word was {word} ):! GAME OVER !:(')\n",
    "    "
   ]
  }
 ],
 "metadata": {
  "kernelspec": {
   "display_name": "Python 3 (ipykernel)",
   "language": "python",
   "name": "python3"
  },
  "language_info": {
   "codemirror_mode": {
    "name": "ipython",
    "version": 3
   },
   "file_extension": ".py",
   "mimetype": "text/x-python",
   "name": "python",
   "nbconvert_exporter": "python",
   "pygments_lexer": "ipython3",
   "version": "3.8.13"
  }
 },
 "nbformat": 4,
 "nbformat_minor": 5
}
